{
 "cells": [
  {
   "cell_type": "code",
   "execution_count": 1,
   "metadata": {},
   "outputs": [],
   "source": [
    "import csv\n",
    "import torch\n",
    "from transformers import BertTokenizer, BertModel"
   ]
  },
  {
   "cell_type": "code",
   "execution_count": 2,
   "metadata": {},
   "outputs": [],
   "source": [
    "tokenizer = BertTokenizer.from_pretrained('bert-base-uncased')"
   ]
  },
  {
   "cell_type": "code",
   "execution_count": 3,
   "metadata": {},
   "outputs": [],
   "source": [
    "# read from data.csv\n",
    "\n",
    "all_sentences = []\n",
    "\n",
    "with open('../data/data.csv', 'r') as f:\n",
    "    reader = csv.DictReader(f)\n",
    "    \n",
    "    for row in reader:\n",
    "        all_sentences.append(row['sentence'])"
   ]
  },
  {
   "cell_type": "code",
   "execution_count": 6,
   "metadata": {},
   "outputs": [],
   "source": [
    "import pandas as pd\n",
    "df = pd.read_csv(\"../data/data.csv\")"
   ]
  },
  {
   "cell_type": "code",
   "execution_count": 7,
   "metadata": {},
   "outputs": [
    {
     "data": {
      "text/plain": [
       "(5759, 19)"
      ]
     },
     "execution_count": 7,
     "metadata": {},
     "output_type": "execute_result"
    }
   ],
   "source": [
    "df.shape"
   ]
  },
  {
   "cell_type": "code",
   "execution_count": 5,
   "metadata": {},
   "outputs": [
    {
     "data": {
      "text/plain": [
       "5759"
      ]
     },
     "execution_count": 5,
     "metadata": {},
     "output_type": "execute_result"
    }
   ],
   "source": [
    "len(all_sentences)"
   ]
  },
  {
   "cell_type": "code",
   "execution_count": 8,
   "metadata": {},
   "outputs": [
    {
     "name": "stdout",
     "output_type": "stream",
     "text": [
      "Complete\n"
     ]
    }
   ],
   "source": [
    "# tokens and embeddings as is from bert\n",
    "all_tokens = []\n",
    "all_embeddings = []\n",
    "\n",
    "# average embeddings of word piece\n",
    "tokenized_sentences_no_wordpiece = []\n",
    "embedding_sentences_no_wordpiece = []\n",
    "\n",
    "for sentence in all_sentences:\n",
    "    # tokenize the sentences for bert\n",
    "\n",
    "    marked_sentence = \"[CLS]\" + sentence + \"[SEP]\"\n",
    "    # TODO: no need to add [CLS] and [SEP], tokenizer will do that\n",
    "    \n",
    "    tokenized_sentence = tokenizer.tokenize(marked_sentence)  # TODO: just do tokenizer()\n",
    "    all_tokens.append(tokenized_sentence)\n",
    "    indexed_tokens = tokenizer.convert_tokens_to_ids(tokenized_sentence)\n",
    "    \n",
    "    # all 1s since we are feeding one sentence to bert at a time\n",
    "    segments_ids = [1] * len(tokenized_sentence)  # TODO: bert tokenizer will output segment ID\n",
    "    \n",
    "    # convert python lists to torch tensors\n",
    "    tokens_tensor = torch.tensor([indexed_tokens])\n",
    "    segments_tensors = torch.tensor([segments_ids])\n",
    "    \n",
    "    \n",
    "    model = BertModel.from_pretrained('bert-base-uncased', output_hidden_states = True)  # TODO: move out of \"for\"\n",
    "    model.eval()\n",
    "    \n",
    "    # do not run the back propagation. \n",
    "    with torch.no_grad():\n",
    "        output = model(tokens_tensor, segments_tensors)\n",
    "        \n",
    "        embedding = output.last_hidden_state\n",
    "        \n",
    "        # squeeze the tensor to remove the batch\n",
    "        embedding = torch.squeeze(embedding, dim=0)\n",
    "        \n",
    "        all_embeddings.append(embedding)\n",
    "        \n",
    "#         print(tokenized_sentence)\n",
    "#         print(len(tokenized_sentence))\n",
    "#         print(embedding.size())\n",
    "        \n",
    "        # combine the embedding of the word pieces and take the average\n",
    "        token_no_wordpiece = []\n",
    "        embedding_no_wordpiece = []\n",
    "        \n",
    "        for i in range(0, len(tokenized_sentence)):\n",
    "                        \n",
    "            each_token = tokenized_sentence[i]\n",
    "            \n",
    "            if len(each_token) > 2 and each_token[0] == each_token[1] == '#':\n",
    "                \n",
    "                # TODO: add some comments to below\n",
    "                # TODO: write it into the format of InstanceFeatures\n",
    "                # TODO: build token_id_orig_map\n",
    "                if len(tokenized_sentence[i - 1]) > 2 and tokenized_sentence[i - 1][0] == tokenized_sentence[i - 1][1] == '#':\n",
    "                    continue\n",
    "                \n",
    "                num_sequence = 2\n",
    "                sum_embedding = embedding[i - 1].add(embedding[i])\n",
    "                sum_token = each_token[2:]\n",
    "                for j in range(i + 1, len(tokenized_sentence)):\n",
    "                    \n",
    "                    next_token = tokenized_sentence[j]\n",
    "                    \n",
    "                    if len(next_token) > 2 and next_token[0] == next_token[1] == '#':\n",
    "                        num_sequence += 1\n",
    "                        sum_embedding = sum_embedding.add(embedding[j])\n",
    "                        sum_token += next_token[2:]\n",
    "                    else:\n",
    "                        break\n",
    "                        \n",
    "                token_no_wordpiece[-1] = token_no_wordpiece[-1] + sum_token\n",
    "                embedding_no_wordpiece[-1] = torch.div(sum_embedding, num_sequence)\n",
    "            else:\n",
    "                token_no_wordpiece.append(tokenized_sentence[i])\n",
    "                embedding_no_wordpiece.append(embedding[i])\n",
    "        \n",
    "        \n",
    "        tokenized_sentences_no_wordpiece.append(token_no_wordpiece)\n",
    "        embedding_sentences_no_wordpiece.append(torch.stack(embedding_no_wordpiece))\n",
    "        # TODO: save everything into InstanceFeatures\n",
    "        break\n",
    "        \n",
    "print(\"Complete\")"
   ]
  },
  {
   "cell_type": "code",
   "execution_count": null,
   "metadata": {},
   "outputs": [],
   "source": [
    "# Original sentences\n",
    "print(len(all_sentences))\n",
    "\n",
    "# All tokenized sentence with word piece\n",
    "print(len(all_tokens))\n",
    "\n",
    "# All embeddings with word piece\n",
    "print(len(all_embeddings))\n",
    "\n",
    "# Assert all_tokens and all_embeddings have the same length\n",
    "print(len(all_tokens) == len(all_embeddings))\n",
    "\n",
    "# All tokenized sentence without word piece\n",
    "print(len(tokenized_sentences_no_wordpiece))\n",
    "\n",
    "# All embeddings without word piece\n",
    "print(len(embedding_sentences_no_wordpiece))\n",
    "\n",
    "# Assert tokenized_sentences_no_wordpiece and embedding_sentences_no_wordpiece have the same length \n",
    "print(len(tokenized_sentences_no_wordpiece) == len(embedding_sentences_no_wordpiece))\n",
    "\n",
    "# The shape of an embedding is [# of tokens, 768]\n",
    "print(all_embeddings[0].size())\n",
    "print(embedding_sentences_no_wordpiece[0].size())\n"
   ]
  },
  {
   "cell_type": "code",
   "execution_count": null,
   "metadata": {},
   "outputs": [],
   "source": []
  },
  {
   "cell_type": "code",
   "execution_count": null,
   "metadata": {},
   "outputs": [],
   "source": []
  }
 ],
 "metadata": {
  "kernelspec": {
   "display_name": "Python 3",
   "language": "python",
   "name": "python3"
  },
  "language_info": {
   "codemirror_mode": {
    "name": "ipython",
    "version": 3
   },
   "file_extension": ".py",
   "mimetype": "text/x-python",
   "name": "python",
   "nbconvert_exporter": "python",
   "pygments_lexer": "ipython3",
   "version": "3.8.3"
  }
 },
 "nbformat": 4,
 "nbformat_minor": 2
}
